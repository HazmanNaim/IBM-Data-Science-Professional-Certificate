{
 "cells": [
  {
   "cell_type": "markdown",
   "id": "3032ef03-cf4f-4bc1-939b-808ee73dda74",
   "metadata": {},
   "source": [
    "<p style=\"text-align:center\">\n",
    "    <a href=\"https://skills.network/?utm_medium=Exinfluencer&utm_source=Exinfluencer&utm_content=000026UJ&utm_term=10006555&utm_id=NA-SkillsNetwork-Channel-SkillsNetworkCoursesIBMDeveloperSkillsNetworkPY0101ENSkillsNetwork1005-2023-01-01\">\n",
    "    <img src=\"https://cf-courses-data.s3.us.cloud-object-storage.appdomain.cloud/assets/logos/SN_web_lightmode.png\" width=\"200\" alt=\"Skills Network Logo\"  />\n",
    "    </a>\n",
    "</p>\n"
   ]
  },
  {
   "cell_type": "markdown",
   "id": "0cbc9137-2f00-443e-8840-bab7cedd71f1",
   "metadata": {},
   "source": [
    "<center>\n",
    "\n",
    "# Practice lab\n",
    "\n",
    "</center>\n"
   ]
  },
  {
   "cell_type": "markdown",
   "id": "5d96f6a7-a67a-471c-93c1-fe7e9361acab",
   "metadata": {},
   "source": [
    "<center>\n",
    "    \n",
    "# **Scenario: Text Analysis**\n",
    "\n",
    "</center>\n"
   ]
  },
  {
   "cell_type": "markdown",
   "id": "c4048780-9d3a-4f26-804a-87ed264d7e1e",
   "metadata": {},
   "source": [
    "Estimated time needed: **30** minutes\n"
   ]
  },
  {
   "cell_type": "markdown",
   "id": "4f872d8d-210d-4c1a-8c90-3bcf3c76f9c1",
   "metadata": {},
   "source": [
    "# What is Text analysis?\n",
    "Text analysis, also known as text mining or text analytics, refers to the process of extracting meaningful information and insights from textual data.\n"
   ]
  },
  {
   "cell_type": "markdown",
   "id": "5722fb24-f2d1-4686-ac4c-750c4fa92314",
   "metadata": {},
   "source": [
    "## Objectives\n",
    " \n",
    "Upon finishing this laboratory exercise, you will gain proficiency in employing various techniques in combination.\n"
   ]
  },
  {
   "cell_type": "markdown",
   "id": "1a3085a6-4c75-46f7-800a-58191075302d",
   "metadata": {},
   "source": [
    "## Setup\n"
   ]
  },
  {
   "cell_type": "markdown",
   "id": "34e3abff-b6c9-4e64-bf5f-f1dd7e1976c1",
   "metadata": {},
   "source": [
    "For this lab, we will be using the following data types:\n",
    "* List\n",
    "* Strings\n",
    "* Classes and objects\n"
   ]
  },
  {
   "cell_type": "markdown",
   "id": "7563cd09-5c9a-4f43-a068-a9015621dadf",
   "metadata": {},
   "source": [
    "# Let's consider a real-life scenario where you are analyzing customer feedback for a product. You have a large dataset of customer reviews in the form of strings, and you want to extract useful information from them using the three identified tasks:\n",
    "\n",
    "**1. String in lower case:**\n",
    "You want to Pre-process the customer feedback by converting all the text to lowercase. This step helps standardize the text. Lower casing the text allows you to focus on the content rather than the specific letter casing.\n",
    "\n",
    "**2. Frequency of all words in a given string:**\n",
    "After converting the text to lowercase, you want to determine the frequency of each word in the customer feedback. This information will help you identify which words are used more frequently, indicating the key aspects or topics that customers are mentioning in their reviews. By analyzing the word frequencies, you can gain insights into the most common issues raised by customers.\n",
    "\n",
    "**3. Frequency of a specific word:**\n",
    "In addition to analyzing the overall word frequencies, you want to specifically track the frequency of a particular word that is relevant to your analysis. For example, you might be interested in monitoring how often the word \"reliable\" appears in the customer reviews to gauge customer sentiment about the product's reliability. By focusing on the frequency of a specific word, you can gain a deeper understanding of customer opinions or preferences related to that particular aspect.\n",
    "\n",
    "By performing these tasks on the customer feedback dataset, you can gain valuable insights into customer sentiment\n"
   ]
  },
  {
   "cell_type": "markdown",
   "id": "74269a9f-50ae-463d-bf1e-35f9b185826f",
   "metadata": {},
   "source": [
    "----\n"
   ]
  },
  {
   "cell_type": "markdown",
   "id": "ab67abe2-d093-484f-807f-0fab9b518a7f",
   "metadata": {},
   "source": [
    "## Below is the given string\n"
   ]
  },
  {
   "cell_type": "code",
   "execution_count": null,
   "id": "601eb2f0-70de-4fa8-85e9-1a76ee8be973",
   "metadata": {},
   "outputs": [],
   "source": [
    "givenstring=\"Lorem ipsum dolor! diam amet, consetetur Lorem magna. sed diam nonumy eirmod tempor. diam et labore? et diam magna. et diam amet.\""
   ]
  },
  {
   "cell_type": "markdown",
   "id": "6d3fb24b-88c0-4dd9-902f-5c61e46deecf",
   "metadata": {},
   "source": [
    "### For achieving the above 3 task, We need to create a class with 3 different methods.\n"
   ]
  },
  {
   "cell_type": "markdown",
   "id": "07348648-c2ca-448e-8db1-bcda167e89fe",
   "metadata": {},
   "source": [
    "##### Follow the intruction given in each task and create a class with different methods\n"
   ]
  },
  {
   "cell_type": "markdown",
   "id": "0c7bfec8-4ea9-49e8-8ffd-e8e5ebbb5a30",
   "metadata": {},
   "source": [
    "# Task-1 Define the class and its attributes:\n"
   ]
  },
  {
   "cell_type": "markdown",
   "id": "12ba3766-e2dc-4e4d-bfe1-990483bb6565",
   "metadata": {},
   "source": [
    "1. Create a class named TextAnalyzer.\n",
    "2. Define the constructor `__init__` method that takes a text argument.\n"
   ]
  },
  {
   "cell_type": "code",
   "execution_count": null,
   "id": "18e45ab9-40cf-4126-b87a-54374231de1f",
   "metadata": {},
   "outputs": [],
   "source": [
    "# type your code here"
   ]
  },
  {
   "cell_type": "markdown",
   "id": "74740de9-7b97-4b3a-acb3-e14f0d4bba8f",
   "metadata": {},
   "source": [
    "<details><summary>Click here for the solution</summary>\n",
    "\n",
    "```python\n",
    "class TextAnalyzer:\n",
    "    def __init__(self, text):\n",
    "        \n",
    "            \n",
    "```\n",
    "\n",
    "</details>\n"
   ]
  },
  {
   "cell_type": "markdown",
   "id": "4ab93c2b-6780-48ac-8ca2-2bfea500ba58",
   "metadata": {},
   "source": [
    "----\n"
   ]
  },
  {
   "cell_type": "markdown",
   "id": "15750273-f7b7-488f-af85-fc348d46ee29",
   "metadata": {},
   "source": [
    "# Task-2 Formatting the text:\n"
   ]
  },
  {
   "cell_type": "markdown",
   "id": "75bb59fa-ce36-4728-9cc8-f366b24be6ab",
   "metadata": {},
   "source": [
    "1. Inside the constructor, convert the text argument to lowercase using the `lower()` method.\n",
    "2. Remove punctuation marks (periods, exclamation marks, commas, and question marks) from the text using the `replace()` method.\n",
    "3. Assign the formatted text to a new attribute called fmtText.\n",
    "\n",
    "**Update the above `TextAnalyzer` class with points mentioned above.**\n"
   ]
  },
  {
   "cell_type": "code",
   "execution_count": null,
   "id": "342dec73-c677-436a-8592-3476b7472f58",
   "metadata": {},
   "outputs": [],
   "source": [
    "# Type your code here "
   ]
  },
  {
   "cell_type": "markdown",
   "id": "3d0208d9-a62a-48ba-a2b6-449f37e4db76",
   "metadata": {},
   "source": [
    "<details><summary>Click here for the solution</summary>\n",
    "\n",
    "```python\n",
    "class analysedText(object):\n",
    "    \n",
    "    def __init__ (self, text):\n",
    "        # remove punctuation\n",
    "        formattedText = text.replace('.','').replace('!','').replace('?','').replace(',','')\n",
    "        \n",
    "        # make text lowercase\n",
    "        formattedText = formattedText.lower()\n",
    "        \n",
    "        self.fmtText = formattedText\n",
    "        \n",
    "            \n",
    "```\n",
    "\n",
    "</details>\n"
   ]
  },
  {
   "cell_type": "markdown",
   "id": "68e8515c-4827-4cb4-9c8e-b8e41208d554",
   "metadata": {},
   "source": [
    "----\n"
   ]
  },
  {
   "cell_type": "markdown",
   "id": "2e3e62e6-fb74-4e81-b3a0-843b04537e64",
   "metadata": {},
   "source": [
    "# Task-3 Frequency of all unique words:\n"
   ]
  },
  {
   "cell_type": "markdown",
   "id": "0d65a7f9-f3d2-4962-bae1-e45a5549ad3b",
   "metadata": {},
   "source": [
    "* Implement the `freqAll()` method:\n",
    "     1. Split the fmtText attribute into individual words using the `split()` method.\n",
    "     2. Create an empty dictionary to store the word frequency.\n",
    "     3. Iterate over the list of words and update the frequency dictionary accordingly.\n",
    "     4. use `count` method for counting the occurence\n",
    "     5. Return the frequency dictionary.\n",
    "     \n",
    "**Update the above `TextAnalyzer` class with points mentioned above.**\n"
   ]
  },
  {
   "cell_type": "code",
   "execution_count": null,
   "id": "9c74c913-867f-4941-9d46-2513677e06c1",
   "metadata": {},
   "outputs": [],
   "source": [
    "# type your code here"
   ]
  },
  {
   "cell_type": "markdown",
   "id": "29314530-c87f-49f7-9b50-96c8dcdfca8f",
   "metadata": {},
   "source": [
    "<details><summary>Click here for the solution</summary>\n",
    "\n",
    "```python\n",
    "class analysedText(object):\n",
    "    \n",
    "    def __init__ (self, text):\n",
    "        # remove punctuation\n",
    "        formattedText = text.replace('.','').replace('!','').replace('?','').replace(',','')\n",
    "        \n",
    "        # make text lowercase\n",
    "        formattedText = formattedText.lower()\n",
    "        \n",
    "        self.fmtText = formattedText\n",
    "        \n",
    "    def freqAll(self):        \n",
    "        # split text into words\n",
    "        wordList = self.fmtText.split(' ')\n",
    "        \n",
    "        # Create dictionary\n",
    "        freqMap = {}\n",
    "        for word in set(wordList): # use set to remove duplicates in list\n",
    "            freqMap[word] = wordList.count(word)\n",
    "        \n",
    "        return freqMap\n",
    "    \n",
    "            \n",
    "```\n",
    "\n",
    "</details>\n"
   ]
  },
  {
   "cell_type": "markdown",
   "id": "9b0ad9fc-13f6-45dc-8613-90bf3672ba4d",
   "metadata": {},
   "source": [
    "----\n"
   ]
  },
  {
   "cell_type": "markdown",
   "id": "b883b34f-bf53-440b-b01b-803d39cd4f47",
   "metadata": {},
   "source": [
    "# Task-4 Frequency of a specific word:\n"
   ]
  },
  {
   "cell_type": "markdown",
   "id": "c102d46b-b51e-4866-a908-03c1821f7c97",
   "metadata": {},
   "source": [
    "* Implement the `freqOf(word)` method that takes a word argument:\n",
    "   1. create method and pass the word that need to be found\n",
    "   2. get the `freqAll` method for look for count and check if that word is in the list.\n",
    "   3. Return the count.\n",
    "   \n",
    "**Update the above `TextAnalyzer` class with points mentioned above.**\n"
   ]
  },
  {
   "cell_type": "code",
   "execution_count": null,
   "id": "42c78dc8-d716-466b-a91f-27fe2b8b976c",
   "metadata": {},
   "outputs": [],
   "source": [
    "# type your code here"
   ]
  },
  {
   "cell_type": "markdown",
   "id": "b554fb28-3a0c-4393-83f0-af792004e4e1",
   "metadata": {},
   "source": [
    "<details><summary>Click here for the solution</summary>\n",
    "\n",
    "```python\n",
    "class analysedText(object):\n",
    "    \n",
    "    def __init__ (self, text):\n",
    "        # remove punctuation\n",
    "        formattedText = text.replace('.','').replace('!','').replace('?','').replace(',','')\n",
    "        \n",
    "        # make text lowercase\n",
    "        formattedText = formattedText.lower()\n",
    "        \n",
    "        self.fmtText = formattedText\n",
    "        \n",
    "    def freqAll(self):        \n",
    "        # split text into words\n",
    "        wordList = self.fmtText.split(' ')\n",
    "        \n",
    "        # Create dictionary\n",
    "        freqMap = {}\n",
    "        for word in set(wordList): # use set to remove duplicates in list\n",
    "            freqMap[word] = wordList.count(word)\n",
    "        \n",
    "        return freqMap\n",
    "    \n",
    "    def freqOf(self,word):\n",
    "        # get frequency map\n",
    "        freqDict = self.freqAll()\n",
    "        \n",
    "        if word in freqDict:\n",
    "            return freqDict[word]\n",
    "        else:\n",
    "            return 0\n",
    "    \n",
    "            \n",
    "```\n",
    "\n",
    "</details>\n"
   ]
  },
  {
   "cell_type": "markdown",
   "id": "cefa047d-a0f0-4c3a-a590-3ab1f8b16033",
   "metadata": {},
   "source": [
    "## Now, We have successfully created a class with 3 methods\n"
   ]
  },
  {
   "cell_type": "markdown",
   "id": "0bead3d6-5ea5-4b9c-85d5-6e3040e887de",
   "metadata": {},
   "source": [
    "## Task-5 Create an instance of analysedText\n"
   ]
  },
  {
   "cell_type": "code",
   "execution_count": null,
   "id": "5d32d593-a186-4465-99ca-c75c4a030ae7",
   "metadata": {},
   "outputs": [],
   "source": [
    "# type your code here"
   ]
  },
  {
   "cell_type": "markdown",
   "id": "bee0c538-60bb-4d6c-8f0a-3a4f6bfc5db5",
   "metadata": {},
   "source": [
    "<details><summary>Click here for the solution</summary>\n",
    "\n",
    "```python\n",
    "analyzed = analysedText(givenstring)\n",
    "```\n",
    "\n",
    "</details>\n"
   ]
  },
  {
   "cell_type": "markdown",
   "id": "edee8481-6108-4a3e-8753-4154cde58b29",
   "metadata": {},
   "source": [
    "## Task-6 Print the formatted text(lower case string)\n"
   ]
  },
  {
   "cell_type": "code",
   "execution_count": null,
   "id": "ffac7e62-da19-46d8-8cc7-b140bf30e90b",
   "metadata": {},
   "outputs": [],
   "source": [
    "# type your code here"
   ]
  },
  {
   "cell_type": "markdown",
   "id": "c7c10c1e-e085-4a76-bb28-ad7129eadba4",
   "metadata": {},
   "source": [
    "<details><summary>Click here for the solution</summary>\n",
    "\n",
    "```python\n",
    "print(\"Formatted Text:\", analyzed.fmtText)\n",
    "```\n",
    "\n",
    "</details>\n"
   ]
  },
  {
   "cell_type": "markdown",
   "id": "fcccaca3-be16-4e36-af81-b8d1f75d172e",
   "metadata": {},
   "source": [
    "## Task-7 Test freqAll() method\n"
   ]
  },
  {
   "cell_type": "code",
   "execution_count": null,
   "id": "5ab8c74e-7a93-4ec7-8a3a-438d86f37182",
   "metadata": {},
   "outputs": [],
   "source": [
    "# type your code here"
   ]
  },
  {
   "cell_type": "markdown",
   "id": "2e346712-597a-44b8-ae6b-8b134d4590d0",
   "metadata": {},
   "source": [
    "<details><summary>Click here for the solution</summary>\n",
    "\n",
    "```python\n",
    "freqMap = analyzed.freqAll()\n",
    "print(freqMap)\n",
    "```\n",
    "\n",
    "</details>\n"
   ]
  },
  {
   "cell_type": "markdown",
   "id": "15b40d93-8ef8-40ba-8218-2b13b436a138",
   "metadata": {},
   "source": [
    "## Task-8 Test freqOf() method\n",
    "you have to find the frequency of the following words:-\n",
    "1. \"lorem\"    \n",
    "2. \"diam\"   \n",
    "3. \"et\"    \n",
    "<br>\n",
    "\n",
    "print the output using **formatting**\n"
   ]
  },
  {
   "cell_type": "code",
   "execution_count": null,
   "id": "6dfcec05-49b5-4026-8280-df8c6cda0f6c",
   "metadata": {},
   "outputs": [],
   "source": [
    "# type your code here"
   ]
  },
  {
   "cell_type": "markdown",
   "id": "cd05c699-5fe5-46c5-be15-c61d283fe458",
   "metadata": {},
   "source": [
    "<details><summary>Click here for the solution</summary>\n",
    "\n",
    "```python\n",
    "word = \"lorem\"\n",
    "frequency = analyzed.freqOf(word)\n",
    "print(f\"The word '{word}' appears {frequency} times.\")\n",
    "```\n",
    "\n",
    "</details>\n"
   ]
  },
  {
   "cell_type": "markdown",
   "id": "c354b40c-a94b-4ea9-a175-9cd997d3bdfa",
   "metadata": {},
   "source": [
    "<details><summary>Click here for the solution</summary>\n",
    "\n",
    "```python\n",
    "word = \"diam\"\n",
    "frequency = analyzed.freqOf(word)\n",
    "print(f\"The word '{word}' appears {frequency} times.\")\n",
    "```\n",
    "\n",
    "</details>\n"
   ]
  },
  {
   "cell_type": "markdown",
   "id": "b93f3eb5-4b72-42d5-b17b-8c4a52f8a5e1",
   "metadata": {},
   "source": [
    "<details><summary>Click here for the solution</summary>\n",
    "\n",
    "```python\n",
    "word = \"et\"\n",
    "frequency = analyzed.freqOf(word)\n",
    "print(f\"The word '{word}' appears {frequency} times.\")\n",
    "```\n",
    "\n",
    "</details>\n"
   ]
  },
  {
   "cell_type": "markdown",
   "id": "9458128f-0109-4002-8c1b-da7b2280084a",
   "metadata": {},
   "source": [
    "----\n"
   ]
  },
  {
   "cell_type": "markdown",
   "id": "c85fba4b-a90e-4e08-8ec4-861b7bcfa083",
   "metadata": {},
   "source": [
    "## Authors\n"
   ]
  },
  {
   "cell_type": "markdown",
   "id": "4ba518ed-0187-4f24-8a47-2e755e44822e",
   "metadata": {},
   "source": [
    "Author1 <br>\n",
    "**Akansha yadav**\n"
   ]
  },
  {
   "cell_type": "markdown",
   "id": "004e1902-4825-48a1-8068-b1b30d1aead1",
   "metadata": {},
   "source": [
    "### Other Contributors\n"
   ]
  },
  {
   "cell_type": "markdown",
   "id": "6108e25f-40a7-4957-9d56-02e4d53a0dbf",
   "metadata": {},
   "source": [
    "[Contributor with Link](contributor_linl), Contributor No Link\n"
   ]
  },
  {
   "cell_type": "markdown",
   "id": "8a7bd03c-ceb6-4724-a303-02137abf9013",
   "metadata": {},
   "source": [
    "## Change Log\n"
   ]
  },
  {
   "cell_type": "markdown",
   "id": "a98b7e53-dc32-4a91-815d-1ec6fe8db46b",
   "metadata": {},
   "source": [
    "|Date (YYYY-MM-DD)|Version|Changed By|Change Description|\n",
    "|-|-|-|-|\n",
    "|2023-05-17|0.3|Akansha yadav| Created lab under maintenance|\n",
    "|2020-07-17|0.1|Sam     |Create Lab Template|\n",
    "|2022-11-19|0.2|Shengkai|Update Lab Template|\n"
   ]
  },
  {
   "cell_type": "markdown",
   "id": "57acfe94-02c3-4454-a9d7-9d392205f3df",
   "metadata": {},
   "source": [
    "Copyright © 2022 IBM Corporation. All rights reserved.\n"
   ]
  }
 ],
 "metadata": {
  "kernelspec": {
   "display_name": "Python 3 (ipykernel)",
   "language": "python",
   "name": "python3"
  },
  "language_info": {
   "codemirror_mode": {
    "name": "ipython",
    "version": 3
   },
   "file_extension": ".py",
   "mimetype": "text/x-python",
   "name": "python",
   "nbconvert_exporter": "python",
   "pygments_lexer": "ipython3",
   "version": "3.9.13"
  }
 },
 "nbformat": 4,
 "nbformat_minor": 4
}
